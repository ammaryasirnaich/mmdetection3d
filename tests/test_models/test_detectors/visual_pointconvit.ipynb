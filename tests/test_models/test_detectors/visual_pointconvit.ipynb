{
 "cells": [
  {
   "cell_type": "code",
   "execution_count": 1,
   "metadata": {},
   "outputs": [],
   "source": [
    "import unittest\n",
    "import torch\n",
    "from mmengine import DefaultScope\n",
    "from mmdet3d.registry import MODELS\n",
    "from mmdet3d.testing import (create_detector_inputs, get_detector_cfg, setup_seed)\n"
   ]
  },
  {
   "cell_type": "code",
   "execution_count": 2,
   "metadata": {},
   "outputs": [
    {
     "name": "stderr",
     "output_type": "stream",
     "text": [
      "/workspace/mmcv/mmcv/cnn/bricks/conv_module.py:153: UserWarning: Unnecessary conv bias before batch/instance norm\n",
      "  warnings.warn(\n"
     ]
    }
   ],
   "source": [
    "DefaultScope.get_instance('test_ConVit3D', scope_name='mmdet3d')\n",
    "setup_seed(0)\n",
    "voxel_net_cfg = get_detector_cfg('3dconvit/convit3D_pointNet_transformer_kitti.py')\n",
    "model = MODELS.build(voxel_net_cfg)\n",
    "num_gt_instance = 3\n",
    "packed_inputs = create_detector_inputs(\n",
    "num_gt_instance=num_gt_instance, num_classes=3)\n"
   ]
  },
  {
   "cell_type": "code",
   "execution_count": null,
   "metadata": {},
   "outputs": [],
   "source": [
    "if torch.cuda.is_available():\n",
    "    model = model.cuda()\n",
    "    # test simple_test\n",
    "    with torch.no_grad():\n",
    "        data = model.data_preprocessor(packed_inputs, True)\n",
    "        torch.cuda.empty_cache()\n",
    "        results = model.forward(**data, mode='predict')\n",
    "        num_layers = len(model.neck.blocks)\n",
    "        last_layer = model.neck.blocks[-1]\n",
    "        print(\"type of last layer\",{type(last_layer)})\n",
    "        \"model.neck.blocks[-1] last layer\"\n",
    "        print(f\"number of layers:\",{num_layers})\n",
    "\n",
    "    losses = model.forward(**data, mode='loss')"
   ]
  }
 ],
 "metadata": {
  "kernelspec": {
   "display_name": "Python 3",
   "language": "python",
   "name": "python3"
  },
  "language_info": {
   "codemirror_mode": {
    "name": "ipython",
    "version": 3
   },
   "file_extension": ".py",
   "mimetype": "text/x-python",
   "name": "python",
   "nbconvert_exporter": "python",
   "pygments_lexer": "ipython3",
   "version": "3.8.10"
  }
 },
 "nbformat": 4,
 "nbformat_minor": 2
}
